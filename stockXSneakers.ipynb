{
 "cells": [
  {
   "cell_type": "code",
   "execution_count": 2,
   "metadata": {},
   "outputs": [],
   "source": [
    "from bs4 import BeautifulSoup\n",
    "import requests"
   ]
  },
  {
   "cell_type": "code",
   "execution_count": 3,
   "metadata": {},
   "outputs": [],
   "source": [
    "import requests\n",
    "\n",
    "baseurl = 'https://stockx.com/sneakers'\n",
    "headers = {'User-Agent': 'Mozilla/5.0 (Windows NT 10.0; Win64; x64) AppleWebKit/537.36 (KHTML, like Gecko) Chrome/58.0.3029.110 Safari/537.3'}\n",
    "\n",
    "response = requests.get(baseurl, headers=headers)\n",
    "\n",
    "soup = BeautifulSoup(response.content, 'html.parser')\n"
   ]
  },
  {
   "cell_type": "code",
   "execution_count": 4,
   "metadata": {},
   "outputs": [
    {
     "name": "stdout",
     "output_type": "stream",
     "text": [
      "<!DOCTYPE html>\n",
      "<html lang=\"en-US\">\n",
      " <head>\n",
      "  <title>\n",
      "   Just a moment...\n",
      "  </title>\n",
      "  <meta content=\"text/html; charset=utf-8\" http-equiv=\"Content-Type\"/>\n",
      "  <meta content=\"IE=Edge\" http-equiv=\"X-UA-Compatible\"/>\n",
      "  <meta content=\"noindex,nofollow\" name=\"robots\"/>\n",
      "  <meta content=\"width=device-width,initial-scale=1\" name=\"viewport\"/>\n",
      "  <style>\n",
      "   *{box-sizing:border-box;margin:0;padding:0}html{line-height:1.15;-webkit-text-size-adjust:100%;color:#313131}button,html{font-family:system-ui,-apple-system,BlinkMacSystemFont,Segoe UI,Roboto,Helvetica Neue,Arial,Noto Sans,sans-serif,Apple Color Emoji,Segoe UI Emoji,Segoe UI Symbol,Noto Color Emoji}@media (prefers-color-scheme:dark){body{background-color:#222;color:#d9d9d9}body a{color:#fff}body a:hover{color:#ee730a;text-decoration:underline}body .lds-ring div{border-color:#999 transparent transparent}body .font-red{color:#b20f03}body .big-button,body .pow-button{background-color:#4693ff;color:#1d1d1d}body #challenge-success-text{background-image:url(data:image/svg+xml;base64,PHN2ZyB4bWxucz0iaHR0cDovL3d3dy53My5vcmcvMjAwMC9zdmciIHdpZHRoPSIzMiIgaGVpZ2h0PSIzMiIgZmlsbD0ibm9uZSIgdmlld0JveD0iMCAwIDI2IDI2Ij48cGF0aCBmaWxsPSIjZDlkOWQ5IiBkPSJNMTMgMGExMyAxMyAwIDEgMCAwIDI2IDEzIDEzIDAgMCAwIDAtMjZtMCAyNGExMSAxMSAwIDEgMSAwLTIyIDExIDExIDAgMCAxIDAgMjIiLz48cGF0aCBmaWxsPSIjZDlkOWQ5IiBkPSJtMTAuOTU1IDE2LjA1NS0zLjk1LTQuMTI1LTEuNDQ1IDEuMzg1IDUuMzcgNS42MSA5LjQ5NS05LjYtMS40Mi0xLjQwNXoiLz48L3N2Zz4=)}body #challenge-error-text{background-image:url(data:image/svg+xml;base64,PHN2ZyB4bWxucz0iaHR0cDovL3d3dy53My5vcmcvMjAwMC9zdmciIHdpZHRoPSIzMiIgaGVpZ2h0PSIzMiIgZmlsbD0ibm9uZSI+PHBhdGggZmlsbD0iI0IyMEYwMyIgZD0iTTE2IDNhMTMgMTMgMCAxIDAgMTMgMTNBMTMuMDE1IDEzLjAxNSAwIDAgMCAxNiAzbTAgMjRhMTEgMTEgMCAxIDEgMTEtMTEgMTEuMDEgMTEuMDEgMCAwIDEtMTEgMTEiLz48cGF0aCBmaWxsPSIjQjIwRjAzIiBkPSJNMTcuMDM4IDE4LjYxNUgxNC44N0wxNC41NjMgOS41aDIuNzgzem0tMS4wODQgMS40MjdxLjY2IDAgMS4wNTcuMzg4LjQwNy4zODkuNDA3Ljk5NCAwIC41OTYtLjQwNy45ODQtLjM5Ny4zOS0xLjA1Ny4zODktLjY1IDAtMS4wNTYtLjM4OS0uMzk4LS4zODktLjM5OC0uOTg0IDAtLjU5Ny4zOTgtLjk4NS40MDYtLjM5NyAxLjA1Ni0uMzk3Ii8+PC9zdmc+)}}body{display:flex;flex-direction:column;min-height:100vh}body.no-js .loading-spinner{visibility:hidden}body.no-js .challenge-running{display:none}body.dark{background-color:#222;color:#d9d9d9}body.dark a{color:#fff}body.dark a:hover{color:#ee730a;text-decoration:underline}body.dark .lds-ring div{border-color:#999 transparent transparent}body.dark .font-red{color:#b20f03}body.dark .big-button,body.dark .pow-button{background-color:#4693ff;color:#1d1d1d}body.dark #challenge-success-text{background-image:url(data:image/svg+xml;base64,PHN2ZyB4bWxucz0iaHR0cDovL3d3dy53My5vcmcvMjAwMC9zdmciIHdpZHRoPSIzMiIgaGVpZ2h0PSIzMiIgZmlsbD0ibm9uZSIgdmlld0JveD0iMCAwIDI2IDI2Ij48cGF0aCBmaWxsPSIjZDlkOWQ5IiBkPSJNMTMgMGExMyAxMyAwIDEgMCAwIDI2IDEzIDEzIDAgMCAwIDAtMjZtMCAyNGExMSAxMSAwIDEgMSAwLTIyIDExIDExIDAgMCAxIDAgMjIiLz48cGF0aCBmaWxsPSIjZDlkOWQ5IiBkPSJtMTAuOTU1IDE2LjA1NS0zLjk1LTQuMTI1LTEuNDQ1IDEuMzg1IDUuMzcgNS42MSA5LjQ5NS05LjYtMS40Mi0xLjQwNXoiLz48L3N2Zz4=)}body.dark #challenge-error-text{background-image:url(data:image/svg+xml;base64,PHN2ZyB4bWxucz0iaHR0cDovL3d3dy53My5vcmcvMjAwMC9zdmciIHdpZHRoPSIzMiIgaGVpZ2h0PSIzMiIgZmlsbD0ibm9uZSI+PHBhdGggZmlsbD0iI0IyMEYwMyIgZD0iTTE2IDNhMTMgMTMgMCAxIDAgMTMgMTNBMTMuMDE1IDEzLjAxNSAwIDAgMCAxNiAzbTAgMjRhMTEgMTEgMCAxIDEgMTEtMTEgMTEuMDEgMTEuMDEgMCAwIDEtMTEgMTEiLz48cGF0aCBmaWxsPSIjQjIwRjAzIiBkPSJNMTcuMDM4IDE4LjYxNUgxNC44N0wxNC41NjMgOS41aDIuNzgzem0tMS4wODQgMS40MjdxLjY2IDAgMS4wNTcuMzg4LjQwNy4zODkuNDA3Ljk5NCAwIC41OTYtLjQwNy45ODQtLjM5Ny4zOS0xLjA1Ny4zODktLjY1IDAtMS4wNTYtLjM4OS0uMzk4LS4zODktLjM5OC0uOTg0IDAtLjU5Ny4zOTgtLjk4NS40MDYtLjM5NyAxLjA1Ni0uMzk3Ii8+PC9zdmc+)}body.light{background-color:transparent;color:#313131}body.light a{color:#0051c3}body.light a:hover{color:#ee730a;text-decoration:underline}body.light .lds-ring div{border-color:#595959 transparent transparent}body.light .font-red{color:#fc574a}body.light .big-button,body.light .pow-button{background-color:#003681;border-color:#003681;color:#fff}body.light #challenge-success-text{background-image:url(data:image/svg+xml;base64,PHN2ZyB4bWxucz0iaHR0cDovL3d3dy53My5vcmcvMjAwMC9zdmciIHdpZHRoPSIzMiIgaGVpZ2h0PSIzMiIgZmlsbD0ibm9uZSIgdmlld0JveD0iMCAwIDI2IDI2Ij48cGF0aCBmaWxsPSIjMzEzMTMxIiBkPSJNMTMgMGExMyAxMyAwIDEgMCAwIDI2IDEzIDEzIDAgMCAwIDAtMjZtMCAyNGExMSAxMSAwIDEgMSAwLTIyIDExIDExIDAgMCAxIDAgMjIiLz48cGF0aCBmaWxsPSIjMzEzMTMxIiBkPSJtMTAuOTU1IDE2LjA1NS0zLjk1LTQuMTI1LTEuNDQ1IDEuMzg1IDUuMzcgNS42MSA5LjQ5NS05LjYtMS40Mi0xLjQwNXoiLz48L3N2Zz4=)}body.light #challenge-error-text{background-image:url(data:image/svg+xml;base64,PHN2ZyB4bWxucz0iaHR0cDovL3d3dy53My5vcmcvMjAwMC9zdmciIHdpZHRoPSIzMiIgaGVpZ2h0PSIzMiIgZmlsbD0ibm9uZSI+PHBhdGggZmlsbD0iI2ZjNTc0YSIgZD0iTTE2IDNhMTMgMTMgMCAxIDAgMTMgMTNBMTMuMDE1IDEzLjAxNSAwIDAgMCAxNiAzbTAgMjRhMTEgMTEgMCAxIDEgMTEtMTEgMTEuMDEgMTEuMDEgMCAwIDEtMTEgMTEiLz48cGF0aCBmaWxsPSIjZmM1NzRhIiBkPSJNMTcuMDM4IDE4LjYxNUgxNC44N0wxNC41NjMgOS41aDIuNzgzem0tMS4wODQgMS40MjdxLjY2IDAgMS4wNTcuMzg4LjQwNy4zODkuNDA3Ljk5NCAwIC41OTYtLjQwNy45ODQtLjM5Ny4zOS0xLjA1Ny4zODktLjY1IDAtMS4wNTYtLjM4OS0uMzk4LS4zODktLjM5OC0uOTg0IDAtLjU5Ny4zOTgtLjk4NS40MDYtLjM5NyAxLjA1Ni0uMzk3Ii8+PC9zdmc+)}a{background-color:transparent;color:#0051c3;text-decoration:none;transition:color .15s ease}a:hover{color:#ee730a;text-decoration:underline}.main-content{margin:8rem auto;max-width:60rem;width:100%}.heading-favicon{height:2rem;margin-right:.5rem;width:2rem}@media (width <= 720px){.main-content{margin-top:4rem}.heading-favicon{height:1.5rem;width:1.5rem}}.footer,.main-content{padding-left:1.5rem;padding-right:1.5rem}.main-wrapper{align-items:center;display:flex;flex:1;flex-direction:column}.font-red{color:#b20f03}.spacer{margin:2rem 0}.h1{font-size:2.5rem;font-weight:500;line-height:3.75rem}.h2{font-weight:500}.core-msg,.h2{font-size:1.5rem;line-height:2.25rem}.body-text,.core-msg{font-weight:400}.body-text{font-size:1rem;line-height:1.25rem}@media (width <= 720px){.h1{font-size:1.5rem;line-height:1.75rem}.h2{font-size:1.25rem}.core-msg,.h2{line-height:1.5rem}.core-msg{font-size:1rem}}#challenge-error-text{background-image:url(data:image/svg+xml;base64,PHN2ZyB4bWxucz0iaHR0cDovL3d3dy53My5vcmcvMjAwMC9zdmciIHdpZHRoPSIzMiIgaGVpZ2h0PSIzMiIgZmlsbD0ibm9uZSI+PHBhdGggZmlsbD0iI2ZjNTc0YSIgZD0iTTE2IDNhMTMgMTMgMCAxIDAgMTMgMTNBMTMuMDE1IDEzLjAxNSAwIDAgMCAxNiAzbTAgMjRhMTEgMTEgMCAxIDEgMTEtMTEgMTEuMDEgMTEuMDEgMCAwIDEtMTEgMTEiLz48cGF0aCBmaWxsPSIjZmM1NzRhIiBkPSJNMTcuMDM4IDE4LjYxNUgxNC44N0wxNC41NjMgOS41aDIuNzgzem0tMS4wODQgMS40MjdxLjY2IDAgMS4wNTcuMzg4LjQwNy4zODkuNDA3Ljk5NCAwIC41OTYtLjQwNy45ODQtLjM5Ny4zOS0xLjA1Ny4zODktLjY1IDAtMS4wNTYtLjM4OS0uMzk4LS4zODktLjM5OC0uOTg0IDAtLjU5Ny4zOTgtLjk4NS40MDYtLjM5NyAxLjA1Ni0uMzk3Ii8+PC9zdmc+);padding-left:34px}#challenge-error-text,#challenge-success-text{background-repeat:no-repeat;background-size:contain}#challenge-success-text{background-image:url(data:image/svg+xml;base64,PHN2ZyB4bWxucz0iaHR0cDovL3d3dy53My5vcmcvMjAwMC9zdmciIHdpZHRoPSIzMiIgaGVpZ2h0PSIzMiIgZmlsbD0ibm9uZSIgdmlld0JveD0iMCAwIDI2IDI2Ij48cGF0aCBmaWxsPSIjMzEzMTMxIiBkPSJNMTMgMGExMyAxMyAwIDEgMCAwIDI2IDEzIDEzIDAgMCAwIDAtMjZtMCAyNGExMSAxMSAwIDEgMSAwLTIyIDExIDExIDAgMCAxIDAgMjIiLz48cGF0aCBmaWxsPSIjMzEzMTMxIiBkPSJtMTAuOTU1IDE2LjA1NS0zLjk1LTQuMTI1LTEuNDQ1IDEuMzg1IDUuMzcgNS42MSA5LjQ5NS05LjYtMS40Mi0xLjQwNXoiLz48L3N2Zz4=);padding-left:42px}.text-center{text-align:center}.big-button{border:.063rem solid #0051c3;border-radius:.313rem;font-size:.875rem;line-height:1.313rem;padding:.375rem 1rem;transition-duration:.2s;transition-property:background-color,border-color,color;transition-timing-function:ease}.big-button:hover{cursor:pointer}.captcha-prompt:not(.hidden){display:flex}@media (width <= 720px){.captcha-prompt:not(.hidden){flex-wrap:wrap;justify-content:center}}.pow-button{background-color:#0051c3;color:#fff;margin:2rem 0}.pow-button:hover{background-color:#003681;border-color:#003681;color:#fff}.footer{font-size:.75rem;line-height:1.125rem;margin:0 auto;max-width:60rem;width:100%}.footer-inner{border-top:1px solid #d9d9d9;padding-bottom:1rem;padding-top:1rem}.clearfix:after{clear:both;content:\"\";display:table}.clearfix .column{float:left;padding-right:1.5rem;width:50%}.diagnostic-wrapper{margin-bottom:.5rem}.footer .ray-id{text-align:center}.footer .ray-id code{font-family:monaco,courier,monospace}.core-msg,.zone-name-title{overflow-wrap:break-word}@media (width <= 720px){.diagnostic-wrapper{display:flex;flex-wrap:wrap;justify-content:center}.clearfix:after{clear:none;content:none;display:initial;text-align:center}.column{padding-bottom:2rem}.clearfix .column{float:none;padding:0;width:auto;word-break:keep-all}.zone-name-title{margin-bottom:1rem}}.loading-spinner{height:76.391px}.lds-ring{display:inline-block;position:relative}.lds-ring,.lds-ring div{height:1.875rem;width:1.875rem}.lds-ring div{animation:lds-ring 1.2s cubic-bezier(.5,0,.5,1) infinite;border:.3rem solid transparent;border-radius:50%;border-top-color:#313131;box-sizing:border-box;display:block;position:absolute}.lds-ring div:first-child{animation-delay:-.45s}.lds-ring div:nth-child(2){animation-delay:-.3s}.lds-ring div:nth-child(3){animation-delay:-.15s}@keyframes lds-ring{0%{transform:rotate(0)}to{transform:rotate(1turn)}}@media screen and (-ms-high-contrast:active),screen and (-ms-high-contrast:none){.main-wrapper,body{display:block}}\n",
      "  </style>\n",
      "  <meta content=\"375\" http-equiv=\"refresh\"/>\n",
      " </head>\n",
      " <body class=\"no-js\">\n",
      "  <div class=\"main-wrapper\" role=\"main\">\n",
      "   <div class=\"main-content\">\n",
      "    <noscript>\n",
      "     <div id=\"challenge-error-title\">\n",
      "      <div class=\"h2\">\n",
      "       <span id=\"challenge-error-text\">\n",
      "        Enable JavaScript and cookies to continue\n",
      "       </span>\n",
      "      </div>\n",
      "     </div>\n",
      "    </noscript>\n",
      "   </div>\n",
      "  </div>\n",
      "  <script>\n",
      "   (function(){window._cf_chl_opt={cvId: '3',cZone: \"stockx.com\",cType: 'managed',cNounce: '22615',cRay: '85308a615fb94308',cHash: 'f2590d32ed65344',cUPMDTk: \"\\/sneakers?__cf_chl_tk=ZfVXn0zoyAUA8Etm3GAZQ.I.2Kw_DAZ84Zk3nK3qjIU-1707528141-0-3301\",cFPWv: 'b',cTTimeMs: '1000',cMTimeMs: '375000',cTplV: 5,cTplB: 'cf',cK: \"visitor-time\",fa: \"\\/sneakers?__cf_chl_f_tk=ZfVXn0zoyAUA8Etm3GAZQ.I.2Kw_DAZ84Zk3nK3qjIU-1707528141-0-3301\",md: \"FLVpeVJeD6Y3FVQ1qFvwkfOD7l7WfKDAEdvHHtTgrP0-1707528141-1-AV-Vy7BaVxUzD0mZDaHF-eAn9SgUn-cXVtet8io6niMIwH1FS43A6eoSpLD78RfD6AuVElseCdTFjpq_nRF0cgL81DE7TH_k_jlzDZa5LiBl2P_LKjtBQYebMExs9jzyp2y9wjUXPUmcZ0F-bz1ZasFhxGYD8oi5QAnlo27Zb40YB-XcUUFx6aArVIVWmukxzc0S0jHYGI24wV___V3E7QCdiLbTF3KEozsABqudF9xpn_ZjzSDi0DKCS1Ov7gREaguH0JOezPdb06HpFdA8aHhXFMyy9KVjYwcir2RJqSPFBv__1_acgHIe6tFWT2c1dqrlBEr93PcJ_jTlOEjep4xacY9BjkeUpF5XQm-AvENXEKkhTU37JUFJWOl1-64Q3QIkRAyimEYI6u2ACInuPiozSUDMswkipKQE5i4ENrgfLoOezc2Zl7xJLvBYiW2gV7yo8Jt9wNBxG5wLFIGw8zdjgJG2IZG-ZvAJD9ATfstkeK8eT0oNbzX-OVZBn2W209bxqJFdqlGp6w6t_ILChL5qpQ8HuTiRAqg8K2pP2PomT_7QDIgdMqCmGiNDyC1oeNOf3a0z5XiCNQzKd55lx_iMEZXpClkpVQI0rpc3Egzufg0rGtiFcazSnnrGPA68riZsdLXJ103ksjLEML6rrpoeFj7V5fJ9eecUmWw7i41EoBiyXZFwoaSwG6Hb7kECiryY98KlQWJQiHywaypKYOrnku3CEFkAg9On9urC6wfzCKy5c2EsneE5bWnBqYfQYcVkaWP3NV7VBZYrYeNetGEgbSzrwQyG4ha65upiKb9XwlTGQzOHP77rQ0SCe6BtXSNkIQv_ookT0Lm0MDnyrybpt7vzcbQ53u4pJtsdZ2SlHnnjMZCJXoMzrh7U7MqBUGr50WymdKx-HOFV0NL1fs89l-2MkPclF4BSAPlLACg0s9EMG6uN-zniyZB9FTxj3N5mqyPAReyX9RzHbIvXe1lHiKi7wgI3vBX0HuQRxWSG6qYVhKTWUSG3Iw9Bd0O0ivtf8SWm85Q7b_21i_0hRf02zI2ZdkH58VagOh-7PufhsjVq7HSt8eyCR3wek_JmgFFSkvalXnMXEnj-AkspGqQpspQRG9YEcFyMzIgbFyk50TUm7LfHLqZqq9E9lmJ2iwaNbgDUiyqr1ZFM9SVo6TA5aIl47tIi8tFn1j3psiigmdnuNC1cxJp4OoDV8wedQg-1aokp1jYtRBhOy_IHD8tA3Y7_wgec7XqiGAB-y9k7q1mRQVVojLfCiU5UH71w5tQ7OwgzKEQ8PcsHNrDu_Q3AIc79VCri0Qa03Zt0Hseu-99br7mRkob0x9y87pofEJQ0iWG180L04-smOtISeyQiPwCpcHz8B0ePLNmZp3-PdSYlSjocQpeR5nrHRdvx81jZL3JkYJ07pxLPt5BBDtYdi7MzOmUaBCQRcxqdYTMzqk9CVSdrAWccvE4EpsALa4R3uzp4O38y6Fy3zkMaSn-pWflQ3HKhStkk2O5Zyz657EG4MkzkL_AFlVSAiLtsBgqkB4fEFFcdvK0h4sp39GaY_zaJ6SSDdtW07_n4GJRlxuAGDnSXJh6x__-vW7Nz6TQmgCvvsPjQrPPygEmnPEB9dVfRok_qEza69KSL8Zz9mNJNacLAZnn5jVnJqhgXdhfVisN-pKISEQU48ug2i5yPD6COIUBYoMei8ZSpYTPwgOLT0tdue22ukpfmp1DL7ERGv2NPEPh_X5BEM0I56PCWzq2hYgigYTUc2vL6AwRuLq5cf_Yfij9Kd9UdUbkcKbzto5Bb23sY4klu1d2Dw8FRKIQ3T9_WPXkZJpAdwQobqzNLUtfvCCHy7_0WwdeXycIZyQf2NvMzBw68NLPeuEVapFZcpx6VrUFmQNTGyrHa5uhM_LXhwHEkRHVc4c_IUsn-ASdbhEfy7PxzCdqYQgW-8LWRzK0BzG6PQS0SgxsTH_SKeRAwMsjmYfHCu9g6QTIcLUJrNELJpcMpQFhXv5ZwZIHxIAydTkggCwVlCmREbw7jNaNZeMNSY8q4tIC6ev3dm25TBNvowkircMShbbz1XINOKhmbdehHo_fpGfYk0EAq9tJPP9ei8Xw7r2W-uwz5d3NqWPujZ0ZRaYiOb7pa31zZVesiguUKD5pV53X1HZwb7qHfTUgszu28iJSQ2riPNuTKOc5YuNH9b0Qh8zNG3aAogC4yNSV9a3RFAg_xkOY0mhkfQzpO2yPQ_5tTwiUqKk3jNYsHsRkYDHbdjqOu4SxNSXok2fQ9fYq3jDeBP90yPFKVPw1RxUaeTjO5JlstIQkgvJggLhm2mk8MIRvALE5xzZr4arJ22N8fOHeIOOGvUipGehZ93REJHw91U1aHTE3xsVXxmAh2M7n35GjFZ96q5t4SZ4REING-fk5HZCmBKePZAfODoh0wYohuDtRuyr4yYZgqHTm1pkJ9OtekbXgORBRGgPr3n321ll7il5hU3HE-zm91jlrmIswtoBYGpeS4WMAh5a4G9gfuAys-nLy7JRBWKqQ5CvsYK4HS_tvcXhC1emqIoQOCMz5-6Ysz88mnCxptHyT81o_NMNRxz-IyLKvMnP8-s6roTUMGmeRtwqqM3JB6b0MsCoqqiML2udMy4FFjK9odiSLMYVH8qNFI4BfEUI2DReoxOYn9u_-17fl_b7JDDnCi7HSBgcmBwIrJ206bfWjkFKkleWct4i1NMDYEn0BsPmAr7rx73hMur5Rshn9o1-7Qmk-d1xWT127U29PcSkczmqnjfg3354ajIclFV8Mi-I9zLokffuL7F2PNDLCJBY_q0pE1UxBnRuwX_RtC2O51487EeNPKLChjr5k52j_HNiwelSw5ov7zzalXYBz5mfjROilD8sGiEwykAVwIwBjbJMyng3irjnJHFqdY-w-eIiJdpAH550bfaCQGo_TvO9VjC1hdkrW36nuBoB9UEACYCicHLxPOHdPZmLaDx5M02o0MZi6Ekchje9oiCIZw9AV8qfj4DYBeeAgrmzb2MHcOHqsuFOgsP7wWmZOWF1LOHx1oTMQP3vPXlNMW9WBdofWhZqHV4lqAu33RB_KcWi-ZOgEUwOr6sPiPn3V5b4xbBrQWWIw2qsEyTrIkE_cFPXOMr_sn-ACXst7L8iqf8bAQZfYn-scN0L5KWcfJ6nxoVz9uGexQ6pjnd_tX0OwF494Z2ue-MFvKwKGsiyELpPd_As7l5jhFUxl_yOVncd-kdZR4hQfo\",cRq: {ru: 'aHR0cHM6Ly9zdG9ja3guY29tL3NuZWFrZXJz',ra: 'TW96aWxsYS81LjAgKFdpbmRvd3MgTlQgMTAuMDsgV2luNjQ7IHg2NCkgQXBwbGVXZWJLaXQvNTM3LjM2IChLSFRNTCwgbGlrZSBHZWNrbykgQ2hyb21lLzU4LjAuMzAyOS4xMTAgU2FmYXJpLzUzNy4z',rm: 'R0VU',d: '1LzOg4ReIheUW1cyFs5KU5Qu7i7sc+Vyas5nu7ICOdOXhs+JpLjYGU5Jt/fguBLE1E62yte3IJ7cUrajGlMvxWE62EwrwavXdDy97ql4IOvmZ73lfO7f/G4saLv9XHTK+OfAgkcSVhda3dYD4tDHHYxHRPtfJ2bPG7pfg9hcoXoeBo+8wyFrqrcx5M+dZUWJ7Qu+drR8hohGwwkU4FqVWcALxCUGGi3lrrnPATRUKotrSBWDxVaPIOFvSn6C3EVZDTMXZAlZhIyfPtFHlWCSbYv6Fx6YVYzIM6WquvH4UMLoCwxwHXjRHAtoxqYUvNK2yB6nTTA6UAM+BIxkV9IbWpDtk54bT0WySco/e1nUk+v7fGpIdntQidWjTyF5qPHSQ5b6l7WaH1dzUuPKVQgTDfaNYZkQBXFE72alfoDTC72CX/1Gpc2xas4zJV1HWGqbwAk3Uq/jt0EYE4VRFrLUd/vvkm1jwYnWE+7O0oP12gaS6Q6YJ4Zn91Pl3X6uwNARzNy9cKtbvsk0rBL6ScsKmhXBp7pI6txibcSfYLLSsdpGK1bLarKlbk1QnB8dQnjOLeU3lnmJ6sfgtweN83xaPg==',t: 'MTcwNzUyODE0MS4wMjIwMDA=',cT: Math.floor(Date.now() / 1000),m: 'QXNvyhH2llMXgwwiS0HaJ35OIhRjddcJWiamAjtWBMA=',i1: '3n/b/vcbuiZYDIeAZ1P6Tw==',i2: 'q9/0h4ApwRwOfCidzZ5OTg==',zh: 'JQ1xVj6yxtInuY5Tm+NORyx0WPYP7/Re8k8owY6a6QU=',uh: '0C0u6AAowDJLu0DVVHR+OFYvZ2L4tzkp+TtciSyuCzE=',hh: '30gzHbKEYKTDqXZtSOVIpnADLuN0fIFl5uhq11twKe4=',}};var cpo = document.createElement('script');cpo.src = '/cdn-cgi/challenge-platform/h/b/orchestrate/chl_page/v1?ray=85308a615fb94308';window._cf_chl_opt.cOgUHash = location.hash === '' && location.href.indexOf('#') !== -1 ? '#' : location.hash;window._cf_chl_opt.cOgUQuery = location.search === '' && location.href.slice(0, location.href.length - window._cf_chl_opt.cOgUHash.length).indexOf('?') !== -1 ? '?' : location.search;if (window.history && window.history.replaceState) {var ogU = location.pathname + window._cf_chl_opt.cOgUQuery + window._cf_chl_opt.cOgUHash;history.replaceState(null, null, \"\\/sneakers?__cf_chl_rt_tk=ZfVXn0zoyAUA8Etm3GAZQ.I.2Kw_DAZ84Zk3nK3qjIU-1707528141-0-3301\" + window._cf_chl_opt.cOgUHash);cpo.onload = function() {history.replaceState(null, null, ogU);}}document.getElementsByTagName('head')[0].appendChild(cpo);}());\n",
      "  </script>\n",
      " </body>\n",
      "</html>\n",
      "\n"
     ]
    }
   ],
   "source": [
    "print(soup.prettify())"
   ]
  },
  {
   "cell_type": "code",
   "execution_count": 4,
   "metadata": {},
   "outputs": [
    {
     "name": "stdout",
     "output_type": "stream",
     "text": [
      "Response Status Code: 200\n",
      "List of Links:\n",
      "https://stockx.com/air-jordan-4-retro-bred-reimagined\n",
      "https://stockx.com/nike-kobe-8-protro-court-purple\n",
      "https://stockx.com/nike-sb-dunk-low-city-of-love-light-bone\n",
      "https://stockx.com/nike-kobe-8-protro-radiant-emerald\n",
      "https://stockx.com/air-jordan-3-retro-craft-ivory\n",
      "https://stockx.com/nike-kd-4-year-of-the-dragon-20\n",
      "https://stockx.com/adidas-campus-00s-core-black\n",
      "https://stockx.com/nike-dunk-low-retro-white-black-2021\n",
      "https://stockx.com/crocs-classic-clog-lightning-mcqueen\n",
      "https://stockx.com/nike-dunk-low-photon-dust-w\n",
      "https://stockx.com/nike-sb-dunk-low-city-of-love-burgundy-crush\n",
      "https://stockx.com/adidas-yeezy-slide-slate-grey\n",
      "https://stockx.com/air-jordan-11-retro-dmp-defining-moments-2023\n",
      "https://stockx.com/nike-dunk-low-grey-fog\n",
      "https://stockx.com/nike-air-force-1-low-white-07\n",
      "https://stockx.com/air-jordan-1-retro-low-og-year-of-the-dragon-2024\n",
      "https://stockx.com/nike-dunk-low-valentines-day-2024-womens\n",
      "https://stockx.com/adidas-yeezy-slide-black-onyx\n",
      "https://stockx.com/nike-dunk-low-valentines-day-2024-gs\n",
      "https://stockx.com/ugg-tasman-slipper-chestnut-w\n",
      "https://stockx.com/nike-dunk-low-polar-blue\n",
      "https://stockx.com/nike-kobe-8-protro-court-purple-gs\n",
      "https://stockx.com/nike-dunk-low-cacao-wow-womens\n",
      "https://stockx.com/adidas-campus-00s-grey-white\n",
      "https://stockx.com/nike-dunk-low-white-black-2021-w\n",
      "https://stockx.com/adidas-campus-00s-grey-gum-gs\n",
      "https://stockx.com/adidas-yeezy-slide-bone-2022\n",
      "https://stockx.com/adidas-yeezy-slide-slate-marine\n",
      "https://stockx.com/air-jordan-4-retro-se-craft-medium-olive\n",
      "https://stockx.com/adidas-samba-og-cloud-white-core-black\n",
      "https://stockx.com/air-jordan-1-mid-light-smoke-grey\n",
      "https://stockx.com/nike-dunk-low-prm-bacon-womens\n",
      "https://stockx.com/air-jordan-3-retro-midnight-navy\n",
      "https://stockx.com/adidas-campus-00s-dark-green-cloud-white\n",
      "https://stockx.com/air-jordan-4-retro-red-cement\n",
      "https://stockx.com/nike-mac-attack-qs-sp-travis-scott\n",
      "https://stockx.com/asics-gel-kayano-14-cream-black-metallic-plum\n",
      "https://stockx.com/nike-sb-dunk-low-court-purple\n",
      "https://stockx.com/adidas-campus-00s-crystal-white-core-black\n",
      "https://stockx.com/nike-kobe-6-protro-reverse-grinch\n",
      "Response Status Code: 200\n",
      "List of Links:\n",
      "https://stockx.com/new-balance-9060-rain-cloud-grey\n",
      "https://stockx.com/ugg-classic-ultra-mini-chestnut-w\n",
      "https://stockx.com/nike-zoom-vomero-5-photon-dust-metallic-silver-w\n",
      "https://stockx.com/new-balance-9060-black-castlerock-grey\n",
      "https://stockx.com/nike-dunk-low-brazil-2020\n",
      "https://stockx.com/ugg-tasman-slipper-black\n",
      "https://stockx.com/air-jordan-4-retro-bred-reimagined-gs\n",
      "https://stockx.com/air-jordan-1-retro-high-og-satin-bred\n",
      "https://stockx.com/air-jordan-1-retro-high-og-metallic-gold-womens\n",
      "https://stockx.com/adidas-yeezy-boost-350-v2-onyx\n",
      "https://stockx.com/ugg-tazz-slipper-chestnut-w\n",
      "https://stockx.com/adidas-samba-og-black-wonder-white-womens\n",
      "https://stockx.com/ugg-tasman-slipper-black-w\n",
      "https://stockx.com/air-jordan-1-low-wolf-grey-w\n",
      "https://stockx.com/nike-dunk-low-st-johns-2020\n",
      "https://stockx.com/new-balance-m2002-protection-pack-rain-cloud\n",
      "https://stockx.com/new-balance-530-white-silver-navy\n",
      "https://stockx.com/air-jordan-1-retro-high-og-royal-reimagined\n",
      "https://stockx.com/nike-dunk-low-unc-2021-gs\n",
      "https://stockx.com/nike-dunk-low-medium-olive-w\n",
      "https://stockx.com/asics-gel-1130-white-clay-canyon\n",
      "https://stockx.com/ugg-tasman-slipper-chestnut\n",
      "https://stockx.com/nike-air-force-1-low-07-year-of-the-dragon-2024\n",
      "https://stockx.com/air-jordan-1-mid-patent-black-white-gold\n",
      "https://stockx.com/air-jordan-1-retro-high-og-chicago-reimagined-lost-and-found\n",
      "https://stockx.com/adidas-gazelle-indoor-bliss-pink-purple-womens\n",
      "https://stockx.com/adidas-yeezy-boost-350-v2-bone\n",
      "https://stockx.com/nike-air-force-1-low-drake-certified-lover-boy\n",
      "https://stockx.com/air-jordan-4-retro-thunder-2023\n",
      "https://stockx.com/air-jordan-1-retro-high-og-yellow-ochre\n",
      "https://stockx.com/dr-martens-1460-dmxl-mega-lace-boot-rick-owens-black\n",
      "https://stockx.com/nike-dunk-low-rose-whisper-w\n",
      "https://stockx.com/nike-air-force-1-low-07-se-prm-valentines-day-2024-womens\n",
      "https://stockx.com/nike-dunk-low-retro-white-black-gs\n",
      "https://stockx.com/nike-dunk-low-smoke-grey-gum-3m-swoosh\n",
      "https://stockx.com/nike-air-force-1-low-supreme-box-logo-white\n",
      "https://stockx.com/nike-sb-dunk-low-the-powerpuff-girls-buttercup\n",
      "https://stockx.com/nike-kobe-4-protro-gift-of-mamba\n",
      "https://stockx.com/air-jordan-3-retro-fear-2023\n",
      "https://stockx.com/nike-dunk-low-valerian-blue\n"
     ]
    }
   ],
   "source": [
    "import time\n",
    "\n",
    "base_url = 'https://stockx.com/sneakers?page={}'\n",
    "\n",
    "headers = {'User-Agent': 'Mozilla/5.0 (Windows NT 10.0; Win64; x64) AppleWebKit/537.36 (KHTML, like Gecko) Chrome/58.0.3029.110 Safari/537.3'}\n",
    "\n",
    "for page_num in range(1, 3):  # Loop through 2 webpages\n",
    "    url = base_url.format(page_num)\n",
    "\n",
    "    # Make the request\n",
    "    response = requests.get(url, headers=headers)\n",
    "\n",
    "    print(\"Response Status Code:\", response.status_code)\n",
    "\n",
    "    if response.status_code == 200:\n",
    "        soup = BeautifulSoup(response.text, 'html.parser')\n",
    "        divs = soup.find_all('div', class_='css-jurd7a')\n",
    "\n",
    "        product_links = []\n",
    "\n",
    "        for div in divs:\n",
    "            a_tag = div.find('a', {'data-testid': 'productTile-ProductSwitcherLink'})\n",
    "            if a_tag:\n",
    "                link = a_tag.get('href')\n",
    "                product_links.append('https://stockx.com' + link)\n",
    "        print(\"List of Links:\")\n",
    "        for link in product_links:\n",
    "            print(link)\n",
    "    else:\n",
    "        print(\"Failed to retrieve the webpage.\")\n",
    "    time.sleep(3)"
   ]
  },
  {
   "cell_type": "code",
   "execution_count": 5,
   "metadata": {},
   "outputs": [
    {
     "name": "stdout",
     "output_type": "stream",
     "text": [
      "Product: Jordan 4 RetroBred Reimagined\n",
      "Retail Price: $215\n"
     ]
    }
   ],
   "source": [
    "\n",
    "headers = {'User-Agent': 'Mozilla/5.0 (Windows NT 10.0; Win64; x64) AppleWebKit/537.36 (KHTML, like Gecko) Chrome/58.0.3029.110 Safari/537.3'}\n",
    "\n",
    "\n",
    "\n",
    "testLink = 'https://stockx.com/air-jordan-4-retro-bred-reimagined'\n",
    "r = requests.get(testLink, headers=headers)\n",
    "\n",
    "soup = BeautifulSoup(r.content, 'html.parser')\n",
    "\n",
    "product_title = soup.find('h1', class_='chakra-heading css-1qzfqqa', attrs={'data-component': 'primary-product-title'})\n",
    "product_title = product_title.text.strip() if product_title else \"Product title not found.\"\n",
    "\n",
    "print(\"Product:\", product_title)\n",
    "\n",
    "retail_price_elements = soup.find_all('p', class_='chakra-text css-pxl067')[2]\n",
    "\n",
    "# Extract the text content of each retail price element\n",
    "retail_prices = [elem.text.strip() for elem in retail_price_elements]\n",
    "\n",
    "# Print the extracted retail prices\n",
    "if retail_prices:\n",
    "    for i, retail_price in enumerate(retail_prices, start=1):\n",
    "        # print(f\"Retail Price {i}:\", price)\n",
    "\n",
    "\n",
    "        print(f\"Retail Price:\", retail_price)\n"
   ]
  },
  {
   "cell_type": "code",
   "execution_count": null,
   "metadata": {},
   "outputs": [
    {
     "name": "stdout",
     "output_type": "stream",
     "text": [
      "Last sale price: Last sale price not found\n"
     ]
    }
   ],
   "source": [
    "from selenium import webdriver\n",
    "import time \n",
    "\n",
    "driver = webdriver.Chrome()\n",
    "driver.get(testLink)\n",
    "\n",
    "time.sleep(10)\n",
    "\n",
    "html_content = driver.page_source\n",
    "\n",
    "driver.quit()\n",
    "\n",
    "soup = BeautifulSoup(html_content, 'html.parser')\n",
    "\n",
    "last_sold_element = soup.find('p', class_='chakra-text css-1q8ctst')\n",
    "last_sold = last_sold_element.text.strip() if last_sold_element else \"Last sale price not found\"\n",
    "\n",
    "\n",
    "print(\"Last sale price:\", last_sold)"
   ]
  },
  {
   "cell_type": "code",
   "execution_count": null,
   "metadata": {},
   "outputs": [],
   "source": [
    "sneaker = {\n",
    "    product_title,\n",
    "    retail_price, \n",
    "    last_sold\n",
    "}\n",
    "print(sneaker)"
   ]
  },
  {
   "cell_type": "code",
   "execution_count": 6,
   "metadata": {},
   "outputs": [
    {
     "name": "stdout",
     "output_type": "stream",
     "text": [
      "Product: New Balance 9060Rain Cloud Grey\n",
      "Retail Price 1: $150\n",
      "Product: UGG Classic Ultra Mini BootChestnut (Women's)\n",
      "Retail Price 1: $140\n",
      "Product: Nike Zoom Vomero 5Photon Dust Metallic Silver (Women's)\n",
      "Retail Price 1: $160\n",
      "Product: New Balance 9060Black Castlerock Grey\n",
      "Retail Price 1: $150\n",
      "Product: Nike Dunk LowBrazil (2020/2024)\n",
      "Retail Price 1: $115\n",
      "Product: UGG Tasman SlipperBlack\n",
      "Retail Price 1: $100\n",
      "Product: Jordan 4 RetroBred Reimagined (GS)\n",
      "Retail Price 1: $160\n",
      "Product: Jordan 1 Retro High OGSatin Bred (Women's)\n",
      "Retail Price 1: $180\n",
      "Product: Jordan 1 Retro High OGMetallic Gold (Women's)\n",
      "Retail Price 1: $180\n",
      "Product: adidas Yeezy Boost 350 V2Onyx (2022/2023)\n",
      "Retail Price 1: $230\n",
      "Product: UGG Tazz SlipperChestnut (Women's)\n",
      "Retail Price 1: $120\n",
      "Failed to fetch https://stockx.com/adidas-samba-og-black-wonder-white-womens\n",
      "Failed to fetch https://stockx.com/ugg-tasman-slipper-black-w\n",
      "Failed to fetch https://stockx.com/air-jordan-1-low-wolf-grey-w\n"
     ]
    },
    {
     "ename": "KeyboardInterrupt",
     "evalue": "",
     "output_type": "error",
     "traceback": [
      "\u001b[1;31m---------------------------------------------------------------------------\u001b[0m",
      "\u001b[1;31mKeyboardInterrupt\u001b[0m                         Traceback (most recent call last)",
      "Cell \u001b[1;32mIn[6], line 25\u001b[0m\n\u001b[0;32m     23\u001b[0m \u001b[38;5;28;01melse\u001b[39;00m:\n\u001b[0;32m     24\u001b[0m     \u001b[38;5;28mprint\u001b[39m(\u001b[38;5;124mf\u001b[39m\u001b[38;5;124m\"\u001b[39m\u001b[38;5;124mFailed to fetch \u001b[39m\u001b[38;5;132;01m{\u001b[39;00mproduct_link\u001b[38;5;132;01m}\u001b[39;00m\u001b[38;5;124m\"\u001b[39m)\n\u001b[1;32m---> 25\u001b[0m time\u001b[38;5;241m.\u001b[39msleep(\u001b[38;5;241m5\u001b[39m)\n",
      "\u001b[1;31mKeyboardInterrupt\u001b[0m: "
     ]
    }
   ],
   "source": [
    "import time \n",
    "\n",
    "for product_link in product_links:\n",
    "    r = requests.get(product_link, headers=headers)\n",
    "    \n",
    "    if r.status_code == 200:\n",
    "        soup = BeautifulSoup(r.content, 'html.parser')\n",
    "        \n",
    "        product_title = soup.find('h1', class_='chakra-heading css-1qzfqqa', attrs={'data-component': 'primary-product-title'})\n",
    "        product_title = product_title.text.strip() if product_title else \"Product title not found.\"\n",
    "        \n",
    "        print(\"Product:\", product_title)\n",
    "        \n",
    "        retail_price_elements = soup.find_all('p', class_='chakra-text css-pxl067')[2]\n",
    "        \n",
    "        retail_prices = [elem.text.strip() for elem in retail_price_elements]\n",
    "        \n",
    "        if retail_prices:\n",
    "            for i, retail_price in enumerate(retail_prices, start=1):\n",
    "                print(f\"Retail Price:\", retail_price)\n",
    "        else:\n",
    "            print(\"Retail price not found.\")\n",
    "    else:\n",
    "        print(f\"Failed to fetch {product_link}\")\n",
    "    time.sleep(5)"
   ]
  },
  {
   "cell_type": "code",
   "execution_count": 8,
   "metadata": {},
   "outputs": [
    {
     "name": "stdout",
     "output_type": "stream",
     "text": [
      "Last sale price for https://stockx.com/new-balance-9060-rain-cloud-grey : $122\n",
      "Last sale price for https://stockx.com/ugg-classic-ultra-mini-chestnut-w : Last sale price not found\n",
      "Last sale price for https://stockx.com/nike-zoom-vomero-5-photon-dust-metallic-silver-w : Last sale price not found\n"
     ]
    },
    {
     "ename": "KeyboardInterrupt",
     "evalue": "",
     "output_type": "error",
     "traceback": [
      "\u001b[1;31m---------------------------------------------------------------------------\u001b[0m",
      "\u001b[1;31mKeyboardInterrupt\u001b[0m                         Traceback (most recent call last)",
      "Cell \u001b[1;32mIn[8], line 16\u001b[0m\n\u001b[0;32m     13\u001b[0m     \u001b[38;5;28;01mreturn\u001b[39;00m last_sold\n\u001b[0;32m     15\u001b[0m \u001b[38;5;28;01mfor\u001b[39;00m product_link \u001b[38;5;129;01min\u001b[39;00m product_links:\n\u001b[1;32m---> 16\u001b[0m     last_sale_price \u001b[38;5;241m=\u001b[39m \u001b[43mscrape_last_sale_price\u001b[49m\u001b[43m(\u001b[49m\u001b[43mproduct_link\u001b[49m\u001b[43m)\u001b[49m\n\u001b[0;32m     17\u001b[0m     \u001b[38;5;28mprint\u001b[39m(\u001b[38;5;124m\"\u001b[39m\u001b[38;5;124mLast sale price for\u001b[39m\u001b[38;5;124m\"\u001b[39m, product_link, \u001b[38;5;124m\"\u001b[39m\u001b[38;5;124m:\u001b[39m\u001b[38;5;124m\"\u001b[39m, last_sale_price)\n",
      "Cell \u001b[1;32mIn[8], line 6\u001b[0m, in \u001b[0;36mscrape_last_sale_price\u001b[1;34m(url)\u001b[0m\n\u001b[0;32m      4\u001b[0m driver \u001b[38;5;241m=\u001b[39m webdriver\u001b[38;5;241m.\u001b[39mChrome()\n\u001b[0;32m      5\u001b[0m driver\u001b[38;5;241m.\u001b[39mget(url)\n\u001b[1;32m----> 6\u001b[0m \u001b[43mtime\u001b[49m\u001b[38;5;241;43m.\u001b[39;49m\u001b[43msleep\u001b[49m\u001b[43m(\u001b[49m\u001b[38;5;241;43m5\u001b[39;49m\u001b[43m)\u001b[49m \n\u001b[0;32m      7\u001b[0m html_content \u001b[38;5;241m=\u001b[39m driver\u001b[38;5;241m.\u001b[39mpage_source\n\u001b[0;32m      8\u001b[0m driver\u001b[38;5;241m.\u001b[39mquit()\n",
      "\u001b[1;31mKeyboardInterrupt\u001b[0m: "
     ]
    }
   ],
   "source": [
    "from selenium import webdriver\n",
    "\n",
    "def scrape_last_sale_price(url):\n",
    "    driver = webdriver.Chrome()\n",
    "    driver.get(url)\n",
    "    time.sleep(5) \n",
    "    html_content = driver.page_source\n",
    "    driver.quit()\n",
    "\n",
    "    soup = BeautifulSoup(html_content, 'html.parser')\n",
    "    last_sold_element = soup.find('p', class_='chakra-text css-1q8ctst')\n",
    "    last_sold = last_sold_element.text.strip() if last_sold_element else \"Last sale price not found\"\n",
    "    return last_sold\n",
    "\n",
    "for product_link in product_links:\n",
    "    last_sale_price = scrape_last_sale_price(product_link)\n",
    "    print(\"Last sale price for:\", last_sale_price)"
   ]
  }
 ],
 "metadata": {
  "kernelspec": {
   "display_name": "Python 3",
   "language": "python",
   "name": "python3"
  },
  "language_info": {
   "codemirror_mode": {
    "name": "ipython",
    "version": 3
   },
   "file_extension": ".py",
   "mimetype": "text/x-python",
   "name": "python",
   "nbconvert_exporter": "python",
   "pygments_lexer": "ipython3",
   "version": "3.11.8"
  }
 },
 "nbformat": 4,
 "nbformat_minor": 2
}
